{
 "cells": [
  {
   "cell_type": "code",
   "execution_count": 3,
   "id": "26b6947f",
   "metadata": {},
   "outputs": [],
   "source": [
    "import pandas as pd\n",
    "from pathlib import Path\n",
    "from typing import Tuple\n",
    "from itertools import product\n",
    "from collections import defaultdict\n",
    "import json\n",
    "import numpy as np\n",
    "from scipy import stats\n",
    "from math import sqrt\n",
    "from enum import Enum\n",
    "from dataclasses import dataclass\n",
    "import matplotlib as mpl\n",
    "from matplotlib.ticker import MultipleLocator, AutoMinorLocator, FormatStrFormatter\n",
    "import matplotlib.pyplot as plt\n",
    "import seaborn as sns\n",
    "# import upsetplot\n",
    "\n",
    "\n",
    "plt.style.use(\"ggplot\")\n",
    "CONF = 0.95\n"
   ]
  },
  {
   "cell_type": "code",
   "execution_count": 9,
   "id": "59090af6",
   "metadata": {},
   "outputs": [],
   "source": [
    "def sample_name(s: str) -> str:\n",
    "    for sfx in [\"_rep1\", \"_rep2\", \"-singleplex\", \"-multiplex\"]:\n",
    "        s = s.replace(sfx, \"\")\n",
    "    return s\n",
    "\n",
    "def load_susceptibility(stream) -> dict:\n",
    "    \"\"\"Extract the susceptibility info from the JSON\"\"\"\n",
    "    data = json.load(stream)\n",
    "    try:\n",
    "        return data[next(iter(data.keys()))][\"susceptibility\"]\n",
    "    except (KeyError, TypeError):\n",
    "        return data[\"susceptibility\"]"
   ]
  },
  {
   "cell_type": "code",
   "execution_count": 8,
   "id": "00063254",
   "metadata": {},
   "outputs": [],
   "source": [
    "# ont_df = pd.read_csv(\"../../docs/ont_samples.csv\", index_col=\"sample\")"
   ]
  },
  {
   "cell_type": "code",
   "execution_count": 5,
   "id": "862775d5",
   "metadata": {},
   "outputs": [],
   "source": [
    "# jsons = list(Path(\"../../results/\").rglob(\"*mykrobe.json\"))"
   ]
  },
  {
   "cell_type": "code",
   "execution_count": 21,
   "id": "3d45c04d",
   "metadata": {},
   "outputs": [],
   "source": [
    "data = []\n",
    "for p in jsons:\n",
    "    with open(p) as fp:\n",
    "        results = load_susceptibility(fp)\n",
    "    name = p.name.split(\".\")[0]\n",
    "    if \"_rep\" in name:\n",
    "        continue\n",
    "    tech = p.parts[3]\n",
    "    if tech == \"nanopore\":\n",
    "        is_multi = not pd.isna(ont_df.at[name, \"barcode_kit\"])\n",
    "        source = \"sputum\"\n",
    "    else:\n",
    "        is_multi = False\n",
    "        source = p.parts[5]\n",
    "    name = sample_name(name)\n",
    "    for drug, pred in results.items():\n",
    "        data.append((name, tech, source, is_multi, drug, pred))"
   ]
  },
  {
   "cell_type": "code",
   "execution_count": 22,
   "id": "ad3a9c70",
   "metadata": {},
   "outputs": [],
   "source": [
    "df = pd.DataFrame(data, columns=[\"name\", \"technology\", \"source\", \"is_multiplex\", \"drug\", \"prediction\"])"
   ]
  },
  {
   "cell_type": "code",
   "execution_count": 23,
   "id": "e6bab583",
   "metadata": {},
   "outputs": [],
   "source": [
    "df[\"prediction\"] = [d[\"predict\"] for d in df[\"prediction\"]]"
   ]
  },
  {
   "cell_type": "code",
   "execution_count": 24,
   "id": "e22dbab2",
   "metadata": {},
   "outputs": [
    {
     "data": {
      "text/html": [
       "<div>\n",
       "<style scoped>\n",
       "    .dataframe tbody tr th:only-of-type {\n",
       "        vertical-align: middle;\n",
       "    }\n",
       "\n",
       "    .dataframe tbody tr th {\n",
       "        vertical-align: top;\n",
       "    }\n",
       "\n",
       "    .dataframe thead th {\n",
       "        text-align: right;\n",
       "    }\n",
       "</style>\n",
       "<table border=\"1\" class=\"dataframe\">\n",
       "  <thead>\n",
       "    <tr style=\"text-align: right;\">\n",
       "      <th></th>\n",
       "      <th>name</th>\n",
       "      <th>technology</th>\n",
       "      <th>source</th>\n",
       "      <th>is_multiplex</th>\n",
       "      <th>drug</th>\n",
       "      <th>prediction</th>\n",
       "    </tr>\n",
       "  </thead>\n",
       "  <tbody>\n",
       "    <tr>\n",
       "      <th>0</th>\n",
       "      <td>P224</td>\n",
       "      <td>illumina</td>\n",
       "      <td>sputum</td>\n",
       "      <td>False</td>\n",
       "      <td>Ofloxacin</td>\n",
       "      <td>S</td>\n",
       "    </tr>\n",
       "    <tr>\n",
       "      <th>1</th>\n",
       "      <td>P224</td>\n",
       "      <td>illumina</td>\n",
       "      <td>sputum</td>\n",
       "      <td>False</td>\n",
       "      <td>Moxifloxacin</td>\n",
       "      <td>S</td>\n",
       "    </tr>\n",
       "    <tr>\n",
       "      <th>2</th>\n",
       "      <td>P224</td>\n",
       "      <td>illumina</td>\n",
       "      <td>sputum</td>\n",
       "      <td>False</td>\n",
       "      <td>Isoniazid</td>\n",
       "      <td>S</td>\n",
       "    </tr>\n",
       "    <tr>\n",
       "      <th>3</th>\n",
       "      <td>P224</td>\n",
       "      <td>illumina</td>\n",
       "      <td>sputum</td>\n",
       "      <td>False</td>\n",
       "      <td>Kanamycin</td>\n",
       "      <td>S</td>\n",
       "    </tr>\n",
       "    <tr>\n",
       "      <th>4</th>\n",
       "      <td>P224</td>\n",
       "      <td>illumina</td>\n",
       "      <td>sputum</td>\n",
       "      <td>False</td>\n",
       "      <td>Ethambutol</td>\n",
       "      <td>S</td>\n",
       "    </tr>\n",
       "    <tr>\n",
       "      <th>...</th>\n",
       "      <td>...</td>\n",
       "      <td>...</td>\n",
       "      <td>...</td>\n",
       "      <td>...</td>\n",
       "      <td>...</td>\n",
       "      <td>...</td>\n",
       "    </tr>\n",
       "    <tr>\n",
       "      <th>2338</th>\n",
       "      <td>P217</td>\n",
       "      <td>nanopore</td>\n",
       "      <td>sputum</td>\n",
       "      <td>False</td>\n",
       "      <td>Ciprofloxacin</td>\n",
       "      <td>S</td>\n",
       "    </tr>\n",
       "    <tr>\n",
       "      <th>2339</th>\n",
       "      <td>P217</td>\n",
       "      <td>nanopore</td>\n",
       "      <td>sputum</td>\n",
       "      <td>False</td>\n",
       "      <td>Pyrazinamide</td>\n",
       "      <td>S</td>\n",
       "    </tr>\n",
       "    <tr>\n",
       "      <th>2340</th>\n",
       "      <td>P217</td>\n",
       "      <td>nanopore</td>\n",
       "      <td>sputum</td>\n",
       "      <td>False</td>\n",
       "      <td>Rifampicin</td>\n",
       "      <td>R</td>\n",
       "    </tr>\n",
       "    <tr>\n",
       "      <th>2341</th>\n",
       "      <td>P217</td>\n",
       "      <td>nanopore</td>\n",
       "      <td>sputum</td>\n",
       "      <td>False</td>\n",
       "      <td>Amikacin</td>\n",
       "      <td>S</td>\n",
       "    </tr>\n",
       "    <tr>\n",
       "      <th>2342</th>\n",
       "      <td>P217</td>\n",
       "      <td>nanopore</td>\n",
       "      <td>sputum</td>\n",
       "      <td>False</td>\n",
       "      <td>Capreomycin</td>\n",
       "      <td>S</td>\n",
       "    </tr>\n",
       "  </tbody>\n",
       "</table>\n",
       "<p>2343 rows × 6 columns</p>\n",
       "</div>"
      ],
      "text/plain": [
       "      name technology  source  is_multiplex           drug prediction\n",
       "0     P224   illumina  sputum         False      Ofloxacin          S\n",
       "1     P224   illumina  sputum         False   Moxifloxacin          S\n",
       "2     P224   illumina  sputum         False      Isoniazid          S\n",
       "3     P224   illumina  sputum         False      Kanamycin          S\n",
       "4     P224   illumina  sputum         False     Ethambutol          S\n",
       "...    ...        ...     ...           ...            ...        ...\n",
       "2338  P217   nanopore  sputum         False  Ciprofloxacin          S\n",
       "2339  P217   nanopore  sputum         False   Pyrazinamide          S\n",
       "2340  P217   nanopore  sputum         False     Rifampicin          R\n",
       "2341  P217   nanopore  sputum         False       Amikacin          S\n",
       "2342  P217   nanopore  sputum         False    Capreomycin          S\n",
       "\n",
       "[2343 rows x 6 columns]"
      ]
     },
     "execution_count": 24,
     "metadata": {},
     "output_type": "execute_result"
    }
   ],
   "source": [
    "df"
   ]
  },
  {
   "cell_type": "code",
   "execution_count": 25,
   "id": "53dcf5de",
   "metadata": {},
   "outputs": [],
   "source": [
    "df.to_csv(\"../../results/dst_predictions.csv\", index=False)"
   ]
  },
  {
   "cell_type": "code",
   "execution_count": 26,
   "id": "d7310723",
   "metadata": {},
   "outputs": [
    {
     "data": {
      "text/html": [
       "<div>\n",
       "<style scoped>\n",
       "    .dataframe tbody tr th:only-of-type {\n",
       "        vertical-align: middle;\n",
       "    }\n",
       "\n",
       "    .dataframe tbody tr th {\n",
       "        vertical-align: top;\n",
       "    }\n",
       "\n",
       "    .dataframe thead th {\n",
       "        text-align: right;\n",
       "    }\n",
       "</style>\n",
       "<table border=\"1\" class=\"dataframe\">\n",
       "  <thead>\n",
       "    <tr style=\"text-align: right;\">\n",
       "      <th></th>\n",
       "      <th>name</th>\n",
       "      <th>technology</th>\n",
       "      <th>source</th>\n",
       "      <th>is_multiplex</th>\n",
       "      <th>drug</th>\n",
       "      <th>prediction</th>\n",
       "    </tr>\n",
       "  </thead>\n",
       "  <tbody>\n",
       "    <tr>\n",
       "      <th>0</th>\n",
       "      <td>P224</td>\n",
       "      <td>illumina</td>\n",
       "      <td>sputum</td>\n",
       "      <td>False</td>\n",
       "      <td>Ofloxacin</td>\n",
       "      <td>S</td>\n",
       "    </tr>\n",
       "    <tr>\n",
       "      <th>1</th>\n",
       "      <td>P224</td>\n",
       "      <td>illumina</td>\n",
       "      <td>sputum</td>\n",
       "      <td>False</td>\n",
       "      <td>Moxifloxacin</td>\n",
       "      <td>S</td>\n",
       "    </tr>\n",
       "    <tr>\n",
       "      <th>2</th>\n",
       "      <td>P224</td>\n",
       "      <td>illumina</td>\n",
       "      <td>sputum</td>\n",
       "      <td>False</td>\n",
       "      <td>Isoniazid</td>\n",
       "      <td>S</td>\n",
       "    </tr>\n",
       "    <tr>\n",
       "      <th>3</th>\n",
       "      <td>P224</td>\n",
       "      <td>illumina</td>\n",
       "      <td>sputum</td>\n",
       "      <td>False</td>\n",
       "      <td>Kanamycin</td>\n",
       "      <td>S</td>\n",
       "    </tr>\n",
       "    <tr>\n",
       "      <th>4</th>\n",
       "      <td>P224</td>\n",
       "      <td>illumina</td>\n",
       "      <td>sputum</td>\n",
       "      <td>False</td>\n",
       "      <td>Ethambutol</td>\n",
       "      <td>S</td>\n",
       "    </tr>\n",
       "    <tr>\n",
       "      <th>...</th>\n",
       "      <td>...</td>\n",
       "      <td>...</td>\n",
       "      <td>...</td>\n",
       "      <td>...</td>\n",
       "      <td>...</td>\n",
       "      <td>...</td>\n",
       "    </tr>\n",
       "    <tr>\n",
       "      <th>2338</th>\n",
       "      <td>P217</td>\n",
       "      <td>nanopore</td>\n",
       "      <td>sputum</td>\n",
       "      <td>False</td>\n",
       "      <td>Ciprofloxacin</td>\n",
       "      <td>S</td>\n",
       "    </tr>\n",
       "    <tr>\n",
       "      <th>2339</th>\n",
       "      <td>P217</td>\n",
       "      <td>nanopore</td>\n",
       "      <td>sputum</td>\n",
       "      <td>False</td>\n",
       "      <td>Pyrazinamide</td>\n",
       "      <td>S</td>\n",
       "    </tr>\n",
       "    <tr>\n",
       "      <th>2340</th>\n",
       "      <td>P217</td>\n",
       "      <td>nanopore</td>\n",
       "      <td>sputum</td>\n",
       "      <td>False</td>\n",
       "      <td>Rifampicin</td>\n",
       "      <td>R</td>\n",
       "    </tr>\n",
       "    <tr>\n",
       "      <th>2341</th>\n",
       "      <td>P217</td>\n",
       "      <td>nanopore</td>\n",
       "      <td>sputum</td>\n",
       "      <td>False</td>\n",
       "      <td>Amikacin</td>\n",
       "      <td>S</td>\n",
       "    </tr>\n",
       "    <tr>\n",
       "      <th>2342</th>\n",
       "      <td>P217</td>\n",
       "      <td>nanopore</td>\n",
       "      <td>sputum</td>\n",
       "      <td>False</td>\n",
       "      <td>Capreomycin</td>\n",
       "      <td>S</td>\n",
       "    </tr>\n",
       "  </tbody>\n",
       "</table>\n",
       "<p>2343 rows × 6 columns</p>\n",
       "</div>"
      ],
      "text/plain": [
       "      name technology  source  is_multiplex           drug prediction\n",
       "0     P224   illumina  sputum         False      Ofloxacin          S\n",
       "1     P224   illumina  sputum         False   Moxifloxacin          S\n",
       "2     P224   illumina  sputum         False      Isoniazid          S\n",
       "3     P224   illumina  sputum         False      Kanamycin          S\n",
       "4     P224   illumina  sputum         False     Ethambutol          S\n",
       "...    ...        ...     ...           ...            ...        ...\n",
       "2338  P217   nanopore  sputum         False  Ciprofloxacin          S\n",
       "2339  P217   nanopore  sputum         False   Pyrazinamide          S\n",
       "2340  P217   nanopore  sputum         False     Rifampicin          R\n",
       "2341  P217   nanopore  sputum         False       Amikacin          S\n",
       "2342  P217   nanopore  sputum         False    Capreomycin          S\n",
       "\n",
       "[2343 rows x 6 columns]"
      ]
     },
     "execution_count": 26,
     "metadata": {},
     "output_type": "execute_result"
    }
   ],
   "source": [
    "df = pd.read_csv(\"../../results/dst_predictions.csv\")\n",
    "df"
   ]
  },
  {
   "cell_type": "code",
   "execution_count": 27,
   "id": "80ff8215",
   "metadata": {},
   "outputs": [],
   "source": [
    "sputum_df = df.query(\"source=='sputum'\")"
   ]
  },
  {
   "cell_type": "code",
   "execution_count": 28,
   "id": "adcad72f",
   "metadata": {},
   "outputs": [],
   "source": [
    "culture_df = df.query(\"source=='culture'\").set_index([\"name\", \"drug\"], verify_integrity=True)"
   ]
  },
  {
   "cell_type": "markdown",
   "id": "5c1a319f",
   "metadata": {},
   "source": [
    "https://matplotlib.org/stable/gallery/images_contours_and_fields/image_annotated_heatmap.html is a good place to get tips for doing this plot\n",
    "\n",
    "and https://stackoverflow.com/questions/63530701/python-package-to-plot-two-heatmaps-in-one-split-each-square-into-two-triangles"
   ]
  },
  {
   "cell_type": "code",
   "execution_count": 41,
   "id": "4d1c538b",
   "metadata": {},
   "outputs": [],
   "source": [
    "import matplotlib.pyplot as plt\n",
    "from matplotlib.colors import ListedColormap\n",
    "from itertools import product\n",
    "ggplot_cm = plt.rcParams[\"axes.prop_cycle\"].by_key()[\"color\"]"
   ]
  },
  {
   "cell_type": "code",
   "execution_count": 34,
   "id": "515fe1ca",
   "metadata": {},
   "outputs": [
    {
     "data": {
      "text/plain": [
       "{'Amikacin',\n",
       " 'Capreomycin',\n",
       " 'Ciprofloxacin',\n",
       " 'Ethambutol',\n",
       " 'Isoniazid',\n",
       " 'Kanamycin',\n",
       " 'Moxifloxacin',\n",
       " 'Ofloxacin',\n",
       " 'Pyrazinamide',\n",
       " 'Rifampicin',\n",
       " 'Streptomycin'}"
      ]
     },
     "execution_count": 34,
     "metadata": {},
     "output_type": "execute_result"
    }
   ],
   "source": [
    "set(df[\"drug\"])"
   ]
  },
  {
   "cell_type": "code",
   "execution_count": 42,
   "id": "a208f264",
   "metadata": {},
   "outputs": [],
   "source": [
    "samples = set()\n",
    "for s, _ in culture_df.index:\n",
    "    samples.add(s)\n",
    "    \n",
    "drugs = [\"Isoniazid\", \"Rifampicin\", \"Pyrazinamide\", \"Ethambutol\", \"Amikacin\", \"Streptomycin\", \"Amikacin\", \"Capreomycin\", \"Kanamycin\", \"Ciprofloxacin\", \"Moxifloxacin\"]"
   ]
  },
  {
   "cell_type": "code",
   "execution_count": 53,
   "id": "66c1a49f",
   "metadata": {},
   "outputs": [
    {
     "data": {
      "text/plain": [
       "<matplotlib.image.AxesImage at 0x7fd1e8372d30>"
      ]
     },
     "execution_count": 53,
     "metadata": {},
     "output_type": "execute_result"
    },
    {
     "data": {
      "image/png": "[encoded data removed]",
      "text/plain": [
       "<Figure size 3000x3000 with 1 Axes>"
      ]
     },
     "metadata": {},
     "output_type": "display_data"
    }
   ],
   "source": [
    "fig, ax = plt.subplots(figsize=(10, 10), dpi=300)\n",
    "\n",
    "colors = [ggplot_cm[0], ggplot_cm[1]]\n",
    "cmap = ListedColormap(colors)\n",
    "\n",
    "ill_sputum = sputum_df.query(\"technology=='illumina'\")\n",
    "\n",
    "\n",
    "X = np.zeros((len(samples), len(drugs)))\n",
    "for i, s in enumerate(samples):\n",
    "    if s not in ill_sputum[\"name\"]:\n",
    "        continue\n",
    "    for j, d in enumerate(drugs):\n",
    "        expected = culture_df.at[(s, d), \"prediction\"]\n",
    "        actual = ill_sputum.query(\"name==@s and drug==@d\")[\"prediction\"].iloc[0]\n",
    "        X[i][j] = expected == actual\n",
    "    \n",
    "\n",
    "# plt.scatter(x, y, c=range(3), s=500, cmap=cmap, vmin=0, vmax=len(colors))\n",
    "ax.imshow(X, cmap=cmap, vmin=0, vmax=len(colors))"
   ]
  },
  {
   "cell_type": "code",
   "execution_count": 50,
   "id": "388bb598",
   "metadata": {},
   "outputs": [
    {
     "data": {
      "text/plain": [
       "'S'"
      ]
     },
     "execution_count": 50,
     "metadata": {},
     "output_type": "execute_result"
    }
   ],
   "source": [
    "sputum_df.query(\"name==@s and drug==@d and technology=='illumina'\")[\"prediction\"].iloc[0]"
   ]
  },
  {
   "cell_type": "code",
   "execution_count": null,
   "id": "250b57d2",
   "metadata": {},
   "outputs": [],
   "source": []
  }
 ],
 "metadata": {
  "kernelspec": {
   "display_name": "Python 3 (ipykernel)",
   "language": "python",
   "name": "python3"
  },
  "language_info": {
   "codemirror_mode": {
    "name": "ipython",
    "version": 3
   },
   "file_extension": ".py",
   "mimetype": "text/x-python",
   "name": "python",
   "nbconvert_exporter": "python",
   "pygments_lexer": "ipython3",
   "version": "3.8.12"
  }
 },
 "nbformat": 4,
 "nbformat_minor": 5
}
